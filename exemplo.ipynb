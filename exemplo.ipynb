{
 "cells": [
  {
   "cell_type": "markdown",
   "metadata": {
    "slideshow": {
     "slide_type": "slide"
    }
   },
   "source": [
    "# Install snmpd tools, agent and mibs"
   ]
  },
  {
   "cell_type": "code",
   "execution_count": null,
   "metadata": {},
   "outputs": [],
   "source": [
    "%%bash\n",
    "\n",
    "# Install SNMP - Linux\n",
    "sudo apt update\n",
    "sudo apt install -y snmp snmpd snmp-mibs-downloader"
   ]
  },
  {
   "cell_type": "markdown",
   "metadata": {},
   "source": [
    "# STATISTICS"
   ]
  },
  {
   "cell_type": "code",
   "execution_count": 7,
   "metadata": {},
   "outputs": [
    {
     "name": "stdout",
     "output_type": "stream",
     "text": [
      "Reiniciando o agente SNMP...\n",
      " * snmpd is running\n"
     ]
    }
   ],
   "source": [
    "%%bash\n",
    "\n",
    "echo \"Reiniciando o agente SNMP...\"\n",
    "./restart_agent.sh\n"
   ]
  },
  {
   "cell_type": "code",
   "execution_count": null,
   "metadata": {},
   "outputs": [
    {
     "name": "stdout",
     "output_type": "stream",
     "text": [
      "\\n# STATUS = createRequest\n",
      "SNMPv2-SMI::mib-2.16.1.1.1.21.1 = INTEGER: 2\n"
     ]
    }
   ],
   "source": [
    "\n",
    "%%bash\n",
    "\n",
    "echo \"STATUS = createRequest\"\n",
    "snmpset -v2c -c private localhost .1.3.6.1.2.1.16.1.1.1.21.1 i 2\n"
   ]
  },
  {
   "cell_type": "code",
   "execution_count": null,
   "metadata": {},
   "outputs": [
    {
     "name": "stdout",
     "output_type": "stream",
     "text": [
      "\\n# STATUS PASSA PARA underCreation AUTOMATICAMENTE\n",
      "SNMPv2-SMI::mib-2.16.1.1.1.21.1 = INTEGER: 3\n"
     ]
    }
   ],
   "source": [
    "\n",
    "%%bash\n",
    "\n",
    "echo \"STATUS PASSA PARA underCreation AUTOMATICAMENTE\"\n",
    "snmpget -v2c -c public localhost .1.3.6.1.2.1.16.1.1.1.21.1\n"
   ]
  },
  {
   "cell_type": "code",
   "execution_count": 10,
   "metadata": {},
   "outputs": [
    {
     "name": "stdout",
     "output_type": "stream",
     "text": [
      "DEFINE DATA SOURCE\n",
      "SNMPv2-SMI::mib-2.16.1.1.1.2.1 = STRING: \"eth0\"\n"
     ]
    }
   ],
   "source": [
    "\n",
    "%%bash\n",
    "\n",
    "echo \"DEFINE DATA SOURCE\"\n",
    "snmpset -v2c -c private localhost .1.3.6.1.2.1.16.1.1.1.2.1 s eth0\n"
   ]
  },
  {
   "cell_type": "code",
   "execution_count": 11,
   "metadata": {},
   "outputs": [
    {
     "name": "stdout",
     "output_type": "stream",
     "text": [
      "OWNER\n",
      "SNMPv2-SMI::mib-2.16.1.1.1.20.1 = STRING: \"Probe\"\n"
     ]
    }
   ],
   "source": [
    "\n",
    "%%bash\n",
    "\n",
    "echo \"OWNER\"\n",
    "snmpset -v2c -c private localhost .1.3.6.1.2.1.16.1.1.1.20.1 s Probe\n"
   ]
  },
  {
   "cell_type": "code",
   "execution_count": 12,
   "metadata": {},
   "outputs": [
    {
     "name": "stdout",
     "output_type": "stream",
     "text": [
      "STATUS = valid\n",
      "SNMPv2-SMI::mib-2.16.1.1.1.21.1 = INTEGER: 1\n"
     ]
    }
   ],
   "source": [
    "\n",
    "%%bash\n",
    "\n",
    "echo \"STATUS = valid\"\n",
    "snmpset -v2c -c private localhost .1.3.6.1.2.1.16.1.1.1.21.1 i 1\n"
   ]
  },
  {
   "cell_type": "code",
   "execution_count": 13,
   "metadata": {},
   "outputs": [
    {
     "name": "stdout",
     "output_type": "stream",
     "text": [
      "TOTAL DE DADOS (OCTETOS) RECEBIDO ATÉ O MOMENTO\n",
      "SNMPv2-SMI::mib-2.16.1.1.1.4.1 = INTEGER: 569930\n"
     ]
    }
   ],
   "source": [
    "\n",
    "%%bash\n",
    "\n",
    "echo \"TOTAL DE DADOS (OCTETOS) RECEBIDO ATÉ O MOMENTO\"\n",
    "snmpget -v2c -c public localhost .1.3.6.1.2.1.16.1.1.1.4.1\n"
   ]
  },
  {
   "cell_type": "code",
   "execution_count": 14,
   "metadata": {},
   "outputs": [
    {
     "name": "stdout",
     "output_type": "stream",
     "text": [
      "TOTAL DE DADOS (OCTETOS) RECEBIDO ATÉ O MOMENTO\n",
      "SNMPv2-SMI::mib-2.16.1.1.1.4.1 = INTEGER: 866291\n"
     ]
    }
   ],
   "source": [
    "\n",
    "%%bash\n",
    "\n",
    "echo \"TOTAL DE DADOS (OCTETOS) RECEBIDO ATÉ O MOMENTO\"\n",
    "snmpget -v2c -c public localhost .1.3.6.1.2.1.16.1.1.1.4.1\n"
   ]
  },
  {
   "cell_type": "code",
   "execution_count": 15,
   "metadata": {},
   "outputs": [
    {
     "name": "stdout",
     "output_type": "stream",
     "text": [
      "QUANTIDADE DE PACOTES RECEBIDO ATÉ O MOMENTO\n",
      "SNMPv2-SMI::mib-2.16.1.1.1.5.1 = INTEGER: 1862\n"
     ]
    }
   ],
   "source": [
    "\n",
    "%%bash\n",
    "\n",
    "echo \"QUANTIDADE DE PACOTES RECEBIDO ATÉ O MOMENTO\"\n",
    "snmpget -v2c -c public localhost .1.3.6.1.2.1.16.1.1.1.5.1\n"
   ]
  },
  {
   "cell_type": "code",
   "execution_count": 16,
   "metadata": {},
   "outputs": [
    {
     "name": "stdout",
     "output_type": "stream",
     "text": [
      "QUANTIDADE DE PACOTES COM TAMANHO ENTRE 65 E 127 OCTETOS RECEBIDO ATÉ O MOMENTO\n",
      "SNMPv2-SMI::mib-2.16.1.1.1.15.1 = INTEGER: 0\n"
     ]
    }
   ],
   "source": [
    "\n",
    "%%bash\n",
    "\n",
    "echo \"QUANTIDADE DE PACOTES COM TAMANHO ENTRE 65 E 127 OCTETOS RECEBIDO ATÉ O MOMENTO\"\n",
    "snmpget -v2c -c public localhost .1.3.6.1.2.1.16.1.1.1.15.1\n"
   ]
  },
  {
   "cell_type": "markdown",
   "metadata": {},
   "source": [
    "# HISTORY"
   ]
  },
  {
   "cell_type": "code",
   "execution_count": null,
   "metadata": {},
   "outputs": [
    {
     "name": "stdout",
     "output_type": "stream",
     "text": [
      "\\n# STATUS = REQUEST CREATION\n",
      "SNMPv2-SMI::mib-2.16.2.1.1.7.1 = INTEGER: 2\n"
     ]
    }
   ],
   "source": [
    "\n",
    "%%bash\n",
    "\n",
    "echo \"STATUS = REQUEST CREATION\"\n",
    "snmpset -v2c -c private localhost .1.3.6.1.2.1.16.2.1.1.7.1 i 2\n"
   ]
  },
  {
   "cell_type": "code",
   "execution_count": 18,
   "metadata": {},
   "outputs": [
    {
     "name": "stdout",
     "output_type": "stream",
     "text": [
      "DEFINE DATA SOURCE\n",
      "SNMPv2-SMI::mib-2.16.2.1.1.2.1 = STRING: \"eth0\"\n"
     ]
    }
   ],
   "source": [
    "\n",
    "%%bash\n",
    "\n",
    "echo \"DEFINE DATA SOURCE\"\n",
    "snmpset -v2c -c private localhost .1.3.6.1.2.1.16.2.1.1.2.1 s eth0\n"
   ]
  },
  {
   "cell_type": "code",
   "execution_count": 19,
   "metadata": {},
   "outputs": [
    {
     "name": "stdout",
     "output_type": "stream",
     "text": [
      "DEFINE PARA 3 LEITURAS DO HISTORY\n",
      "SNMPv2-SMI::mib-2.16.2.1.1.3.1 = INTEGER: 3\n"
     ]
    }
   ],
   "source": [
    "\n",
    "%%bash\n",
    "\n",
    "echo \"DEFINE PARA 3 LEITURAS DO HISTORY\"\n",
    "snmpset -v2c -c private localhost .1.3.6.1.2.1.16.2.1.1.3.1 i 3\n"
   ]
  },
  {
   "cell_type": "code",
   "execution_count": 20,
   "metadata": {},
   "outputs": [
    {
     "name": "stdout",
     "output_type": "stream",
     "text": [
      "O INTERVALO ENTRE LEITURAS SERÁ DE 10 SEGUNDOS\n",
      "SNMPv2-SMI::mib-2.16.2.1.1.5.1 = INTEGER: 10\n"
     ]
    }
   ],
   "source": [
    "\n",
    "%%bash\n",
    "\n",
    "echo \"O INTERVALO ENTRE LEITURAS SERÁ DE 10 SEGUNDOS\"\n",
    "snmpset -v2c -c private localhost .1.3.6.1.2.1.16.2.1.1.5.1 i 10\n"
   ]
  },
  {
   "cell_type": "code",
   "execution_count": 21,
   "metadata": {},
   "outputs": [
    {
     "name": "stdout",
     "output_type": "stream",
     "text": [
      "DEFINE OWNER\n",
      "SNMPv2-SMI::mib-2.16.2.1.1.6.1 = STRING: \"Probe\"\n"
     ]
    }
   ],
   "source": [
    "\n",
    "%%bash\n",
    "\n",
    "echo \"DEFINE OWNER\"\n",
    "snmpset -v2c -c private localhost .1.3.6.1.2.1.16.2.1.1.6.1 s Probe\n"
   ]
  },
  {
   "cell_type": "code",
   "execution_count": 22,
   "metadata": {},
   "outputs": [
    {
     "name": "stdout",
     "output_type": "stream",
     "text": [
      "STATUS = VALID\n",
      "SNMPv2-SMI::mib-2.16.2.1.1.7.1 = INTEGER: 1\n"
     ]
    }
   ],
   "source": [
    "\n",
    "%%bash\n",
    "\n",
    "echo \"STATUS = VALID\"\n",
    "snmpset -v2c -c private localhost .1.3.6.1.2.1.16.2.1.1.7.1 i 1\n"
   ]
  },
  {
   "cell_type": "markdown",
   "metadata": {},
   "source": [
    "### AQUI COMEÇAM A SER FEITAS AS LEITURAS DE HISTORY"
   ]
  },
  {
   "cell_type": "code",
   "execution_count": 24,
   "metadata": {},
   "outputs": [
    {
     "name": "stdout",
     "output_type": "stream",
     "text": [
      "QUANTAS LEITURAS JÁ FORAM FEITAS\n",
      "SNMPv2-SMI::mib-2.16.2.1.1.4.1 = INTEGER: 3\n"
     ]
    }
   ],
   "source": [
    "\n",
    "%%bash\n",
    "\n",
    "echo \"QUANTAS LEITURAS JÁ FORAM FEITAS\"\n",
    "snmpget -v2c -c public localhost .1.3.6.1.2.1.16.2.1.1.4.1\n"
   ]
  },
  {
   "cell_type": "code",
   "execution_count": 26,
   "metadata": {},
   "outputs": [
    {
     "name": "stdout",
     "output_type": "stream",
     "text": [
      "HORARIO EM SEGUNDOS DO INÍCIO DA PRIMEIRA LEITURA\n",
      "SNMPv2-SMI::mib-2.16.2.2.1.3.1.1 = INTEGER: 1732158290\n"
     ]
    }
   ],
   "source": [
    "\n",
    "%%bash\n",
    "\n",
    "echo \"HORARIO EM SEGUNDOS DO INÍCIO DA PRIMEIRA LEITURA\"\n",
    "snmpget -v2c -c public localhost .1.3.6.1.2.1.16.2.2.1.3.1.1\n"
   ]
  },
  {
   "cell_type": "code",
   "execution_count": 27,
   "metadata": {},
   "outputs": [
    {
     "name": "stdout",
     "output_type": "stream",
     "text": [
      "HORARIO EM SEGUNDOS DO INÍCIO DA SEGUNDA LEITURA\n",
      "SNMPv2-SMI::mib-2.16.2.2.1.3.1.2 = INTEGER: 1732158300\n"
     ]
    }
   ],
   "source": [
    "\n",
    "%%bash\n",
    "\n",
    "echo \"HORARIO EM SEGUNDOS DO INÍCIO DA SEGUNDA LEITURA\"\n",
    "snmpget -v2c -c public localhost .1.3.6.1.2.1.16.2.2.1.3.1.2\n"
   ]
  },
  {
   "cell_type": "code",
   "execution_count": 28,
   "metadata": {},
   "outputs": [
    {
     "name": "stdout",
     "output_type": "stream",
     "text": [
      "HORARIO EM SEGUNDOS DO INÍCIO DA TERCEIRA LEITURA\n",
      "SNMPv2-SMI::mib-2.16.2.2.1.3.1.3 = INTEGER: 1732158310\n"
     ]
    }
   ],
   "source": [
    "\n",
    "%%bash\n",
    "\n",
    "echo \"HORARIO EM SEGUNDOS DO INÍCIO DA TERCEIRA LEITURA\"\n",
    "snmpget -v2c -c public localhost .1.3.6.1.2.1.16.2.2.1.3.1.3\n"
   ]
  },
  {
   "cell_type": "code",
   "execution_count": 29,
   "metadata": {},
   "outputs": [
    {
     "name": "stdout",
     "output_type": "stream",
     "text": [
      "TOTAL DE DADOS (OCTETOS) RECEBIDO DURANTE O PRIMEIRO INTERVALO\n",
      "SNMPv2-SMI::mib-2.16.2.2.1.5.1.1 = INTEGER: 516851\n"
     ]
    }
   ],
   "source": [
    "\n",
    "%%bash\n",
    "\n",
    "echo \"TOTAL DE DADOS (OCTETOS) RECEBIDO DURANTE O PRIMEIRO INTERVALO\"\n",
    "snmpget -v2c -c public localhost .1.3.6.1.2.1.16.2.2.1.5.1.1\n"
   ]
  },
  {
   "cell_type": "code",
   "execution_count": 30,
   "metadata": {},
   "outputs": [
    {
     "name": "stdout",
     "output_type": "stream",
     "text": [
      "TOTAL DE DADOS (OCTETOS) RECEBIDO DURANTE O SEGUNDO INTERVALO\n",
      "SNMPv2-SMI::mib-2.16.2.2.1.5.1.2 = INTEGER: 368087\n"
     ]
    }
   ],
   "source": [
    "\n",
    "%%bash\n",
    "\n",
    "echo \"TOTAL DE DADOS (OCTETOS) RECEBIDO DURANTE O SEGUNDO INTERVALO\"\n",
    "snmpget -v2c -c public localhost .1.3.6.1.2.1.16.2.2.1.5.1.2\n"
   ]
  },
  {
   "cell_type": "code",
   "execution_count": 31,
   "metadata": {},
   "outputs": [
    {
     "name": "stdout",
     "output_type": "stream",
     "text": [
      "TOTAL DE DADOS (OCTETOS) RECEBIDO DURANTE O TERCEIRO INTERVALO\n",
      "SNMPv2-SMI::mib-2.16.2.2.1.5.1.3 = INTEGER: 258153\n"
     ]
    }
   ],
   "source": [
    "\n",
    "%%bash\n",
    "\n",
    "echo \"TOTAL DE DADOS (OCTETOS) RECEBIDO DURANTE O TERCEIRO INTERVALO\"\n",
    "snmpget -v2c -c public localhost .1.3.6.1.2.1.16.2.2.1.5.1.3"
   ]
  }
 ],
 "metadata": {
  "kernelspec": {
   "display_name": "Python 3",
   "language": "python",
   "name": "python3"
  },
  "language_info": {
   "codemirror_mode": {
    "name": "ipython",
    "version": 3
   },
   "file_extension": ".py",
   "mimetype": "text/x-python",
   "name": "python",
   "nbconvert_exporter": "python",
   "pygments_lexer": "ipython3",
   "version": "3.12.1"
  }
 },
 "nbformat": 4,
 "nbformat_minor": 2
}
